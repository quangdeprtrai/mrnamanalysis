{
 "cells": [
  {
   "cell_type": "code",
   "execution_count": 1,
   "metadata": {
    "id": "XmsFK3yW_2k3"
   },
   "outputs": [],
   "source": [
    "import pandas as pd\n",
    "import numpy as np\n",
    "import matplotlib.pyplot as plt"
   ]
  },
  {
   "cell_type": "code",
   "execution_count": 2,
   "metadata": {},
   "outputs": [
    {
     "name": "stdout",
     "output_type": "stream",
     "text": [
      "<class 'pandas.core.frame.DataFrame'>\n",
      "RangeIndex: 100 entries, 0 to 99\n",
      "Data columns (total 42 columns):\n",
      " #   Column          Non-Null Count  Dtype  \n",
      "---  ------          --------------  -----  \n",
      " 0   Unnamed: 0      100 non-null    int64  \n",
      " 1   TOAN10          100 non-null    float64\n",
      " 2   LY10            100 non-null    float64\n",
      " 3   HOA10           100 non-null    float64\n",
      " 4   SINH10          100 non-null    float64\n",
      " 5   VAN10           100 non-null    float64\n",
      " 6   SU10            100 non-null    float64\n",
      " 7   DIA10           100 non-null    float64\n",
      " 8   NGOAI NGU10     100 non-null    float64\n",
      " 9   TOAN11          100 non-null    float64\n",
      " 10  LY11            100 non-null    float64\n",
      " 11  HOA11           100 non-null    float64\n",
      " 12  SINH11          100 non-null    float64\n",
      " 13  VAN11           100 non-null    float64\n",
      " 14  SU11            100 non-null    float64\n",
      " 15  DIA11           100 non-null    float64\n",
      " 16  NGOAI NGU11     100 non-null    float64\n",
      " 17  TOAN12          100 non-null    float64\n",
      " 18  LY12            100 non-null    float64\n",
      " 19  HOA12           100 non-null    float64\n",
      " 20  SINH12          100 non-null    float64\n",
      " 21  VAN12           100 non-null    float64\n",
      " 22  SU12            100 non-null    float64\n",
      " 23  DIA12           100 non-null    float64\n",
      " 24  NGOAI NGU12     100 non-null    float64\n",
      " 25  GIOI TINH       100 non-null    object \n",
      " 26  DAN TOC         3 non-null      float64\n",
      " 27  KHU VUC THI     100 non-null    object \n",
      " 28  DIEM THI MON 1  100 non-null    float64\n",
      " 29  DIEM THI MON 2  100 non-null    float64\n",
      " 30  DIEM THI MON 3  100 non-null    float64\n",
      " 31  KHOI THI        100 non-null    object \n",
      " 32  TBM1            100 non-null    float64\n",
      " 33  TBM2            100 non-null    float64\n",
      " 34  TBM3            100 non-null    float64\n",
      " 35  XL1             100 non-null    object \n",
      " 36  XL2             100 non-null    object \n",
      " 37  XL3             100 non-null    object \n",
      " 38  US_TBM1         100 non-null    float64\n",
      " 39  US_TBM2         100 non-null    float64\n",
      " 40  US_TBM3         100 non-null    float64\n",
      " 41  KQXT            100 non-null    object \n",
      "dtypes: float64(34), int64(1), object(7)\n",
      "memory usage: 32.9+ KB\n"
     ]
    }
   ],
   "source": [
    "df = pd.read_csv('https://raw.githubusercontent.com/TCSMFrogdance/mrnamanalysis/main/buoi2/ketquaxettuyendaihoc.csv')\n",
    "df.info()"
   ]
  },
  {
   "cell_type": "code",
   "execution_count": 3,
   "metadata": {
    "colab": {
     "base_uri": "https://localhost:8080/"
    },
    "id": "GoHcaBWwADnL",
    "outputId": "0da36daa-0ca1-42ee-ea8b-3a7ffc06e7c1"
   },
   "outputs": [],
   "source": [
    "df.drop(columns='Unnamed: 0', inplace=True)"
   ]
  },
  {
   "cell_type": "code",
   "execution_count": 4,
   "metadata": {},
   "outputs": [
    {
     "data": {
      "text/html": [
       "<div>\n",
       "<style scoped>\n",
       "    .dataframe tbody tr th:only-of-type {\n",
       "        vertical-align: middle;\n",
       "    }\n",
       "\n",
       "    .dataframe tbody tr th {\n",
       "        vertical-align: top;\n",
       "    }\n",
       "\n",
       "    .dataframe thead th {\n",
       "        text-align: right;\n",
       "    }\n",
       "</style>\n",
       "<table border=\"1\" class=\"dataframe\">\n",
       "  <thead>\n",
       "    <tr style=\"text-align: right;\">\n",
       "      <th></th>\n",
       "      <th>TOAN10</th>\n",
       "      <th>LY10</th>\n",
       "      <th>HOA10</th>\n",
       "      <th>SINH10</th>\n",
       "      <th>VAN10</th>\n",
       "      <th>SU10</th>\n",
       "      <th>DIA10</th>\n",
       "      <th>NGOAI NGU10</th>\n",
       "      <th>TOAN11</th>\n",
       "      <th>LY11</th>\n",
       "      <th>...</th>\n",
       "      <th>TBM1</th>\n",
       "      <th>TBM2</th>\n",
       "      <th>TBM3</th>\n",
       "      <th>XL1</th>\n",
       "      <th>XL2</th>\n",
       "      <th>XL3</th>\n",
       "      <th>US_TBM1</th>\n",
       "      <th>US_TBM2</th>\n",
       "      <th>US_TBM3</th>\n",
       "      <th>KQXT</th>\n",
       "    </tr>\n",
       "  </thead>\n",
       "  <tbody>\n",
       "    <tr>\n",
       "      <th>0</th>\n",
       "      <td>7.2</td>\n",
       "      <td>7.3</td>\n",
       "      <td>6.3</td>\n",
       "      <td>7.3</td>\n",
       "      <td>7.0</td>\n",
       "      <td>7.9</td>\n",
       "      <td>7.3</td>\n",
       "      <td>5.5</td>\n",
       "      <td>8.4</td>\n",
       "      <td>8.9</td>\n",
       "      <td>...</td>\n",
       "      <td>7.00</td>\n",
       "      <td>7.54</td>\n",
       "      <td>7.01</td>\n",
       "      <td>K</td>\n",
       "      <td>K</td>\n",
       "      <td>K</td>\n",
       "      <td>2.800</td>\n",
       "      <td>3.016</td>\n",
       "      <td>2.804</td>\n",
       "      <td>ROT</td>\n",
       "    </tr>\n",
       "    <tr>\n",
       "      <th>1</th>\n",
       "      <td>5.4</td>\n",
       "      <td>3.9</td>\n",
       "      <td>3.9</td>\n",
       "      <td>4.0</td>\n",
       "      <td>5.4</td>\n",
       "      <td>5.4</td>\n",
       "      <td>5.3</td>\n",
       "      <td>2.8</td>\n",
       "      <td>6.3</td>\n",
       "      <td>5.4</td>\n",
       "      <td>...</td>\n",
       "      <td>4.69</td>\n",
       "      <td>5.47</td>\n",
       "      <td>5.07</td>\n",
       "      <td>Y</td>\n",
       "      <td>TB</td>\n",
       "      <td>TB</td>\n",
       "      <td>1.876</td>\n",
       "      <td>2.188</td>\n",
       "      <td>2.028</td>\n",
       "      <td>ROT</td>\n",
       "    </tr>\n",
       "    <tr>\n",
       "      <th>2</th>\n",
       "      <td>5.6</td>\n",
       "      <td>6.8</td>\n",
       "      <td>7.2</td>\n",
       "      <td>7.5</td>\n",
       "      <td>4.3</td>\n",
       "      <td>7.4</td>\n",
       "      <td>5.8</td>\n",
       "      <td>3.2</td>\n",
       "      <td>5.0</td>\n",
       "      <td>4.9</td>\n",
       "      <td>...</td>\n",
       "      <td>5.77</td>\n",
       "      <td>5.38</td>\n",
       "      <td>6.04</td>\n",
       "      <td>TB</td>\n",
       "      <td>TB</td>\n",
       "      <td>TB</td>\n",
       "      <td>2.308</td>\n",
       "      <td>2.152</td>\n",
       "      <td>2.416</td>\n",
       "      <td>DAU</td>\n",
       "    </tr>\n",
       "    <tr>\n",
       "      <th>3</th>\n",
       "      <td>6.6</td>\n",
       "      <td>6.4</td>\n",
       "      <td>5.3</td>\n",
       "      <td>6.9</td>\n",
       "      <td>5.4</td>\n",
       "      <td>7.3</td>\n",
       "      <td>6.4</td>\n",
       "      <td>5.8</td>\n",
       "      <td>5.1</td>\n",
       "      <td>6.2</td>\n",
       "      <td>...</td>\n",
       "      <td>6.21</td>\n",
       "      <td>5.20</td>\n",
       "      <td>6.88</td>\n",
       "      <td>TB</td>\n",
       "      <td>TB</td>\n",
       "      <td>K</td>\n",
       "      <td>2.484</td>\n",
       "      <td>2.080</td>\n",
       "      <td>2.752</td>\n",
       "      <td>ROT</td>\n",
       "    </tr>\n",
       "    <tr>\n",
       "      <th>4</th>\n",
       "      <td>6.0</td>\n",
       "      <td>5.0</td>\n",
       "      <td>6.0</td>\n",
       "      <td>7.3</td>\n",
       "      <td>6.5</td>\n",
       "      <td>7.7</td>\n",
       "      <td>7.9</td>\n",
       "      <td>6.1</td>\n",
       "      <td>5.4</td>\n",
       "      <td>5.5</td>\n",
       "      <td>...</td>\n",
       "      <td>6.50</td>\n",
       "      <td>6.36</td>\n",
       "      <td>6.99</td>\n",
       "      <td>K</td>\n",
       "      <td>TB</td>\n",
       "      <td>K</td>\n",
       "      <td>2.600</td>\n",
       "      <td>2.544</td>\n",
       "      <td>2.796</td>\n",
       "      <td>ROT</td>\n",
       "    </tr>\n",
       "  </tbody>\n",
       "</table>\n",
       "<p>5 rows × 41 columns</p>\n",
       "</div>"
      ],
      "text/plain": [
       "   TOAN10  LY10  HOA10  SINH10  VAN10  SU10  DIA10  NGOAI NGU10  TOAN11  LY11  \\\n",
       "0     7.2   7.3    6.3     7.3    7.0   7.9    7.3          5.5     8.4   8.9   \n",
       "1     5.4   3.9    3.9     4.0    5.4   5.4    5.3          2.8     6.3   5.4   \n",
       "2     5.6   6.8    7.2     7.5    4.3   7.4    5.8          3.2     5.0   4.9   \n",
       "3     6.6   6.4    5.3     6.9    5.4   7.3    6.4          5.8     5.1   6.2   \n",
       "4     6.0   5.0    6.0     7.3    6.5   7.7    7.9          6.1     5.4   5.5   \n",
       "\n",
       "   ...  TBM1  TBM2  TBM3  XL1  XL2  XL3  US_TBM1  US_TBM2  US_TBM3  KQXT  \n",
       "0  ...  7.00  7.54  7.01    K    K    K    2.800    3.016    2.804   ROT  \n",
       "1  ...  4.69  5.47  5.07    Y   TB   TB    1.876    2.188    2.028   ROT  \n",
       "2  ...  5.77  5.38  6.04   TB   TB   TB    2.308    2.152    2.416   DAU  \n",
       "3  ...  6.21  5.20  6.88   TB   TB    K    2.484    2.080    2.752   ROT  \n",
       "4  ...  6.50  6.36  6.99    K   TB    K    2.600    2.544    2.796   ROT  \n",
       "\n",
       "[5 rows x 41 columns]"
      ]
     },
     "execution_count": 4,
     "metadata": {},
     "output_type": "execute_result"
    }
   ],
   "source": [
    "df.head()"
   ]
  },
  {
   "cell_type": "code",
   "execution_count": 5,
   "metadata": {},
   "outputs": [
    {
     "data": {
      "text/plain": [
       "53    1.00\n",
       "43    1.25\n",
       "72    1.50\n",
       "5     1.50\n",
       "87    1.75\n",
       "      ... \n",
       "84    6.50\n",
       "11    6.75\n",
       "23    6.75\n",
       "24    7.00\n",
       "97    7.00\n",
       "Name: DIEM THI MON 1, Length: 100, dtype: float64"
      ]
     },
     "execution_count": 5,
     "metadata": {},
     "output_type": "execute_result"
    }
   ],
   "source": [
    "df['DIEM THI MON 1'].sort_values()"
   ]
  },
  {
   "cell_type": "code",
   "execution_count": 6,
   "metadata": {},
   "outputs": [
    {
     "data": {
      "text/html": [
       "<div>\n",
       "<style scoped>\n",
       "    .dataframe tbody tr th:only-of-type {\n",
       "        vertical-align: middle;\n",
       "    }\n",
       "\n",
       "    .dataframe tbody tr th {\n",
       "        vertical-align: top;\n",
       "    }\n",
       "\n",
       "    .dataframe thead th {\n",
       "        text-align: right;\n",
       "    }\n",
       "</style>\n",
       "<table border=\"1\" class=\"dataframe\">\n",
       "  <thead>\n",
       "    <tr style=\"text-align: right;\">\n",
       "      <th></th>\n",
       "      <th>GIOI TINH</th>\n",
       "      <th>DIEM THI MON 2</th>\n",
       "    </tr>\n",
       "  </thead>\n",
       "  <tbody>\n",
       "    <tr>\n",
       "      <th>0</th>\n",
       "      <td>F</td>\n",
       "      <td>3.25</td>\n",
       "    </tr>\n",
       "    <tr>\n",
       "      <th>41</th>\n",
       "      <td>F</td>\n",
       "      <td>4.50</td>\n",
       "    </tr>\n",
       "    <tr>\n",
       "      <th>42</th>\n",
       "      <td>F</td>\n",
       "      <td>3.50</td>\n",
       "    </tr>\n",
       "    <tr>\n",
       "      <th>43</th>\n",
       "      <td>F</td>\n",
       "      <td>3.50</td>\n",
       "    </tr>\n",
       "    <tr>\n",
       "      <th>44</th>\n",
       "      <td>F</td>\n",
       "      <td>4.00</td>\n",
       "    </tr>\n",
       "    <tr>\n",
       "      <th>...</th>\n",
       "      <td>...</td>\n",
       "      <td>...</td>\n",
       "    </tr>\n",
       "    <tr>\n",
       "      <th>64</th>\n",
       "      <td>M</td>\n",
       "      <td>3.75</td>\n",
       "    </tr>\n",
       "    <tr>\n",
       "      <th>66</th>\n",
       "      <td>M</td>\n",
       "      <td>4.50</td>\n",
       "    </tr>\n",
       "    <tr>\n",
       "      <th>67</th>\n",
       "      <td>M</td>\n",
       "      <td>4.50</td>\n",
       "    </tr>\n",
       "    <tr>\n",
       "      <th>69</th>\n",
       "      <td>M</td>\n",
       "      <td>3.75</td>\n",
       "    </tr>\n",
       "    <tr>\n",
       "      <th>99</th>\n",
       "      <td>M</td>\n",
       "      <td>2.50</td>\n",
       "    </tr>\n",
       "  </tbody>\n",
       "</table>\n",
       "<p>100 rows × 2 columns</p>\n",
       "</div>"
      ],
      "text/plain": [
       "   GIOI TINH  DIEM THI MON 2\n",
       "0          F            3.25\n",
       "41         F            4.50\n",
       "42         F            3.50\n",
       "43         F            3.50\n",
       "44         F            4.00\n",
       "..       ...             ...\n",
       "64         M            3.75\n",
       "66         M            4.50\n",
       "67         M            4.50\n",
       "69         M            3.75\n",
       "99         M            2.50\n",
       "\n",
       "[100 rows x 2 columns]"
      ]
     },
     "execution_count": 6,
     "metadata": {},
     "output_type": "execute_result"
    }
   ],
   "source": [
    "df[['GIOI TINH', 'DIEM THI MON 2']].sort_values(by='GIOI TINH')\n"
   ]
  },
  {
   "cell_type": "code",
   "execution_count": 7,
   "metadata": {
    "id": "T2trub87JMLA"
   },
   "outputs": [],
   "source": [
    "def Q1(g):\n",
    "  return np.percentile(g,25)"
   ]
  },
  {
   "cell_type": "code",
   "execution_count": 8,
   "metadata": {
    "id": "m1WaQTReKHBS"
   },
   "outputs": [],
   "source": [
    "def Q2(g):\n",
    "  return np.percentile(g,50)"
   ]
  },
  {
   "cell_type": "code",
   "execution_count": 9,
   "metadata": {
    "id": "iAD6z4kQJidi"
   },
   "outputs": [],
   "source": [
    "def Q3(g):\n",
    "  return np.percentile(g,75)"
   ]
  },
  {
   "cell_type": "code",
   "execution_count": 10,
   "metadata": {
    "colab": {
     "base_uri": "https://localhost:8080/",
     "height": 199
    },
    "id": "d8S0Z3lQENQU",
    "outputId": "476a0a86-21c0-461a-f3bb-cf9bf708a324"
   },
   "outputs": [
    {
     "data": {
      "text/html": [
       "<div>\n",
       "<style scoped>\n",
       "    .dataframe tbody tr th:only-of-type {\n",
       "        vertical-align: middle;\n",
       "    }\n",
       "\n",
       "    .dataframe tbody tr th {\n",
       "        vertical-align: top;\n",
       "    }\n",
       "\n",
       "    .dataframe thead tr th {\n",
       "        text-align: left;\n",
       "    }\n",
       "</style>\n",
       "<table border=\"1\" class=\"dataframe\">\n",
       "  <thead>\n",
       "    <tr>\n",
       "      <th></th>\n",
       "      <th colspan=\"5\" halign=\"left\">count</th>\n",
       "      <th colspan=\"5\" halign=\"left\">sum</th>\n",
       "      <th>...</th>\n",
       "      <th colspan=\"5\" halign=\"left\">Q2</th>\n",
       "      <th colspan=\"5\" halign=\"left\">Q3</th>\n",
       "    </tr>\n",
       "    <tr>\n",
       "      <th>KHOI THI</th>\n",
       "      <th>A</th>\n",
       "      <th>A1</th>\n",
       "      <th>B</th>\n",
       "      <th>C</th>\n",
       "      <th>D1</th>\n",
       "      <th>A</th>\n",
       "      <th>A1</th>\n",
       "      <th>B</th>\n",
       "      <th>C</th>\n",
       "      <th>D1</th>\n",
       "      <th>...</th>\n",
       "      <th>A</th>\n",
       "      <th>A1</th>\n",
       "      <th>B</th>\n",
       "      <th>C</th>\n",
       "      <th>D1</th>\n",
       "      <th>A</th>\n",
       "      <th>A1</th>\n",
       "      <th>B</th>\n",
       "      <th>C</th>\n",
       "      <th>D1</th>\n",
       "    </tr>\n",
       "  </thead>\n",
       "  <tbody>\n",
       "    <tr>\n",
       "      <th>DIEM THI MON 1</th>\n",
       "      <td>49.0</td>\n",
       "      <td>6.0</td>\n",
       "      <td>9.0</td>\n",
       "      <td>14.0</td>\n",
       "      <td>22.0</td>\n",
       "      <td>163.5</td>\n",
       "      <td>17.5</td>\n",
       "      <td>29.5</td>\n",
       "      <td>79.25</td>\n",
       "      <td>84.25</td>\n",
       "      <td>...</td>\n",
       "      <td>3.25</td>\n",
       "      <td>3.0</td>\n",
       "      <td>3.5</td>\n",
       "      <td>5.25</td>\n",
       "      <td>3.75</td>\n",
       "      <td>4.25</td>\n",
       "      <td>3.25</td>\n",
       "      <td>3.75</td>\n",
       "      <td>6.375</td>\n",
       "      <td>4.875</td>\n",
       "    </tr>\n",
       "  </tbody>\n",
       "</table>\n",
       "<p>1 rows × 50 columns</p>\n",
       "</div>"
      ],
      "text/plain": [
       "               count                          sum                            \\\n",
       "KHOI THI           A   A1    B     C    D1      A    A1     B      C     D1   \n",
       "DIEM THI MON 1  49.0  6.0  9.0  14.0  22.0  163.5  17.5  29.5  79.25  84.25   \n",
       "\n",
       "                ...    Q2                          Q3                     \\\n",
       "KHOI THI        ...     A   A1    B     C    D1     A    A1     B      C   \n",
       "DIEM THI MON 1  ...  3.25  3.0  3.5  5.25  3.75  4.25  3.25  3.75  6.375   \n",
       "\n",
       "                       \n",
       "KHOI THI           D1  \n",
       "DIEM THI MON 1  4.875  \n",
       "\n",
       "[1 rows x 50 columns]"
      ]
     },
     "execution_count": 10,
     "metadata": {},
     "output_type": "execute_result"
    }
   ],
   "source": [
    "pivot = pd.pivot_table(df[['DIEM THI MON 1' , 'KHOI THI']], values=['DIEM THI MON 1'], columns=['KHOI THI'], aggfunc=[pd.Series.count ,sum , np.mean ,np.median, min, max, np.std,Q1,Q2,Q3])\n",
    "pivot"
   ]
  },
  {
   "cell_type": "code",
   "execution_count": 11,
   "metadata": {
    "colab": {
     "base_uri": "https://localhost:8080/",
     "height": 293
    },
    "id": "lOX68IcpGRPM",
    "outputId": "cf27036e-5b22-4f1d-ae1d-4e3be14ffe58"
   },
   "outputs": [
    {
     "data": {
      "text/html": [
       "<div>\n",
       "<style scoped>\n",
       "    .dataframe tbody tr th:only-of-type {\n",
       "        vertical-align: middle;\n",
       "    }\n",
       "\n",
       "    .dataframe tbody tr th {\n",
       "        vertical-align: top;\n",
       "    }\n",
       "\n",
       "    .dataframe thead tr th {\n",
       "        text-align: left;\n",
       "    }\n",
       "</style>\n",
       "<table border=\"1\" class=\"dataframe\">\n",
       "  <thead>\n",
       "    <tr>\n",
       "      <th></th>\n",
       "      <th colspan=\"10\" halign=\"left\">count</th>\n",
       "      <th>...</th>\n",
       "      <th colspan=\"10\" halign=\"left\">Q3</th>\n",
       "    </tr>\n",
       "    <tr>\n",
       "      <th>KHOI THI</th>\n",
       "      <th colspan=\"3\" halign=\"left\">A</th>\n",
       "      <th colspan=\"2\" halign=\"left\">A1</th>\n",
       "      <th colspan=\"2\" halign=\"left\">B</th>\n",
       "      <th colspan=\"3\" halign=\"left\">C</th>\n",
       "      <th>...</th>\n",
       "      <th colspan=\"2\" halign=\"left\">A1</th>\n",
       "      <th colspan=\"2\" halign=\"left\">B</th>\n",
       "      <th colspan=\"3\" halign=\"left\">C</th>\n",
       "      <th colspan=\"3\" halign=\"left\">D1</th>\n",
       "    </tr>\n",
       "    <tr>\n",
       "      <th>KHU VUC THI</th>\n",
       "      <th>1</th>\n",
       "      <th>2</th>\n",
       "      <th>2NT</th>\n",
       "      <th>1</th>\n",
       "      <th>2NT</th>\n",
       "      <th>1</th>\n",
       "      <th>2NT</th>\n",
       "      <th>1</th>\n",
       "      <th>2</th>\n",
       "      <th>2NT</th>\n",
       "      <th>...</th>\n",
       "      <th>1</th>\n",
       "      <th>2NT</th>\n",
       "      <th>1</th>\n",
       "      <th>2NT</th>\n",
       "      <th>1</th>\n",
       "      <th>2</th>\n",
       "      <th>2NT</th>\n",
       "      <th>1</th>\n",
       "      <th>2</th>\n",
       "      <th>2NT</th>\n",
       "    </tr>\n",
       "  </thead>\n",
       "  <tbody>\n",
       "    <tr>\n",
       "      <th>DIEM THI MON 1</th>\n",
       "      <td>29.0</td>\n",
       "      <td>9.0</td>\n",
       "      <td>11.0</td>\n",
       "      <td>2.0</td>\n",
       "      <td>4.0</td>\n",
       "      <td>8.0</td>\n",
       "      <td>1.0</td>\n",
       "      <td>8.0</td>\n",
       "      <td>2.0</td>\n",
       "      <td>4.0</td>\n",
       "      <td>...</td>\n",
       "      <td>2.5625</td>\n",
       "      <td>3.5</td>\n",
       "      <td>3.5625</td>\n",
       "      <td>3.75</td>\n",
       "      <td>5.4375</td>\n",
       "      <td>6.125</td>\n",
       "      <td>6.8125</td>\n",
       "      <td>4.25</td>\n",
       "      <td>5.0</td>\n",
       "      <td>3.75</td>\n",
       "    </tr>\n",
       "  </tbody>\n",
       "</table>\n",
       "<p>1 rows × 128 columns</p>\n",
       "</div>"
      ],
      "text/plain": [
       "               count                                                ...  \\\n",
       "KHOI THI           A              A1         B         C            ...   \n",
       "KHU VUC THI        1    2   2NT    1  2NT    1  2NT    1    2  2NT  ...   \n",
       "DIEM THI MON 1  29.0  9.0  11.0  2.0  4.0  8.0  1.0  8.0  2.0  4.0  ...   \n",
       "\n",
       "                    Q3                                                       \\\n",
       "KHOI THI            A1            B             C                   D1        \n",
       "KHU VUC THI          1  2NT       1   2NT       1      2     2NT     1    2   \n",
       "DIEM THI MON 1  2.5625  3.5  3.5625  3.75  5.4375  6.125  6.8125  4.25  5.0   \n",
       "\n",
       "                      \n",
       "KHOI THI              \n",
       "KHU VUC THI      2NT  \n",
       "DIEM THI MON 1  3.75  \n",
       "\n",
       "[1 rows x 128 columns]"
      ]
     },
     "execution_count": 11,
     "metadata": {},
     "output_type": "execute_result"
    }
   ],
   "source": [
    "pivot = pd.pivot_table(df[['DIEM THI MON 1' , 'KHOI THI','KHU VUC THI']], values=['DIEM THI MON 1'], columns=['KHOI THI','KHU VUC THI'], aggfunc=[pd.Series.count ,sum , np.mean ,np.median, min, max, np.std,Q1,Q2,Q3])\n",
    "pivot"
   ]
  },
  {
   "cell_type": "code",
   "execution_count": 12,
   "metadata": {
    "colab": {
     "base_uri": "https://localhost:8080/",
     "height": 173
    },
    "id": "3uVt7aALKkMJ",
    "outputId": "fa5a6314-2362-4c55-8bce-31dcb66d8662"
   },
   "outputs": [
    {
     "data": {
      "text/html": [
       "<div>\n",
       "<style scoped>\n",
       "    .dataframe tbody tr th:only-of-type {\n",
       "        vertical-align: middle;\n",
       "    }\n",
       "\n",
       "    .dataframe tbody tr th {\n",
       "        vertical-align: top;\n",
       "    }\n",
       "\n",
       "    .dataframe thead tr th {\n",
       "        text-align: left;\n",
       "    }\n",
       "</style>\n",
       "<table border=\"1\" class=\"dataframe\">\n",
       "  <thead>\n",
       "    <tr>\n",
       "      <th></th>\n",
       "      <th colspan=\"3\" halign=\"left\">count</th>\n",
       "      <th colspan=\"3\" halign=\"left\">sum</th>\n",
       "      <th colspan=\"3\" halign=\"left\">mean</th>\n",
       "      <th>median</th>\n",
       "      <th>...</th>\n",
       "      <th>max</th>\n",
       "      <th colspan=\"3\" halign=\"left\">Q1</th>\n",
       "      <th colspan=\"3\" halign=\"left\">Q2</th>\n",
       "      <th colspan=\"3\" halign=\"left\">Q3</th>\n",
       "    </tr>\n",
       "    <tr>\n",
       "      <th>KHOI THI</th>\n",
       "      <th>A</th>\n",
       "      <th colspan=\"2\" halign=\"left\">D1</th>\n",
       "      <th>A</th>\n",
       "      <th colspan=\"2\" halign=\"left\">D1</th>\n",
       "      <th>A</th>\n",
       "      <th colspan=\"2\" halign=\"left\">D1</th>\n",
       "      <th>A</th>\n",
       "      <th>...</th>\n",
       "      <th>D1</th>\n",
       "      <th>A</th>\n",
       "      <th colspan=\"2\" halign=\"left\">D1</th>\n",
       "      <th>A</th>\n",
       "      <th colspan=\"2\" halign=\"left\">D1</th>\n",
       "      <th>A</th>\n",
       "      <th colspan=\"2\" halign=\"left\">D1</th>\n",
       "    </tr>\n",
       "    <tr>\n",
       "      <th>KHU VUC THI</th>\n",
       "      <th>2</th>\n",
       "      <th>1</th>\n",
       "      <th>2</th>\n",
       "      <th>2</th>\n",
       "      <th>1</th>\n",
       "      <th>2</th>\n",
       "      <th>2</th>\n",
       "      <th>1</th>\n",
       "      <th>2</th>\n",
       "      <th>2</th>\n",
       "      <th>...</th>\n",
       "      <th>2</th>\n",
       "      <th>2</th>\n",
       "      <th>1</th>\n",
       "      <th>2</th>\n",
       "      <th>2</th>\n",
       "      <th>1</th>\n",
       "      <th>2</th>\n",
       "      <th>2</th>\n",
       "      <th>1</th>\n",
       "      <th>2</th>\n",
       "    </tr>\n",
       "    <tr>\n",
       "      <th>DAN TOC</th>\n",
       "      <th>6.0</th>\n",
       "      <th>1.0</th>\n",
       "      <th>1.0</th>\n",
       "      <th>6.0</th>\n",
       "      <th>1.0</th>\n",
       "      <th>1.0</th>\n",
       "      <th>6.0</th>\n",
       "      <th>1.0</th>\n",
       "      <th>1.0</th>\n",
       "      <th>6.0</th>\n",
       "      <th>...</th>\n",
       "      <th>1.0</th>\n",
       "      <th>6.0</th>\n",
       "      <th>1.0</th>\n",
       "      <th>1.0</th>\n",
       "      <th>6.0</th>\n",
       "      <th>1.0</th>\n",
       "      <th>1.0</th>\n",
       "      <th>6.0</th>\n",
       "      <th>1.0</th>\n",
       "      <th>1.0</th>\n",
       "    </tr>\n",
       "  </thead>\n",
       "  <tbody>\n",
       "    <tr>\n",
       "      <th>DIEM THI MON 1</th>\n",
       "      <td>1.0</td>\n",
       "      <td>1.0</td>\n",
       "      <td>1.0</td>\n",
       "      <td>4.25</td>\n",
       "      <td>3.0</td>\n",
       "      <td>1.25</td>\n",
       "      <td>4.25</td>\n",
       "      <td>3.0</td>\n",
       "      <td>1.25</td>\n",
       "      <td>4.25</td>\n",
       "      <td>...</td>\n",
       "      <td>1.25</td>\n",
       "      <td>4.25</td>\n",
       "      <td>3.0</td>\n",
       "      <td>1.25</td>\n",
       "      <td>4.25</td>\n",
       "      <td>3.0</td>\n",
       "      <td>1.25</td>\n",
       "      <td>4.25</td>\n",
       "      <td>3.0</td>\n",
       "      <td>1.25</td>\n",
       "    </tr>\n",
       "  </tbody>\n",
       "</table>\n",
       "<p>1 rows × 27 columns</p>\n",
       "</div>"
      ],
      "text/plain": [
       "               count             sum             mean            median  ...  \\\n",
       "KHOI THI           A   D1          A   D1           A   D1            A  ...   \n",
       "KHU VUC THI        2    1    2     2    1     2     2    1     2      2  ...   \n",
       "DAN TOC          6.0  1.0  1.0   6.0  1.0   1.0   6.0  1.0   1.0    6.0  ...   \n",
       "DIEM THI MON 1   1.0  1.0  1.0  4.25  3.0  1.25  4.25  3.0  1.25   4.25  ...   \n",
       "\n",
       "                 max    Q1               Q2               Q3             \n",
       "KHOI THI          D1     A   D1           A   D1           A   D1        \n",
       "KHU VUC THI        2     2    1     2     2    1     2     2    1     2  \n",
       "DAN TOC          1.0   6.0  1.0   1.0   6.0  1.0   1.0   6.0  1.0   1.0  \n",
       "DIEM THI MON 1  1.25  4.25  3.0  1.25  4.25  3.0  1.25  4.25  3.0  1.25  \n",
       "\n",
       "[1 rows x 27 columns]"
      ]
     },
     "execution_count": 12,
     "metadata": {},
     "output_type": "execute_result"
    }
   ],
   "source": [
    "pivot = pd.pivot_table(df[['DIEM THI MON 1' , 'KHOI THI','KHU VUC THI','DAN TOC']], values=['DIEM THI MON 1'], columns=['KHOI THI','KHU VUC THI','DAN TOC'], aggfunc=[pd.Series.count ,sum , np.mean ,np.median, min, max, np.std,Q1,Q2,Q3])\n",
    "pivot"
   ]
  },
  {
   "cell_type": "code",
   "execution_count": 13,
   "metadata": {
    "colab": {
     "base_uri": "https://localhost:8080/"
    },
    "id": "mZ1LugbbLJaD",
    "outputId": "877103d8-31c2-4d1a-c233-e5c078b7c7a7"
   },
   "outputs": [
    {
     "name": "stdout",
     "output_type": "stream",
     "text": [
      "M    52\n",
      "F    48\n",
      "Name: GIOI TINH, dtype: int64\n"
     ]
    }
   ],
   "source": [
    "Tan_suat_GT=df['GIOI TINH'].value_counts()\n",
    "print(Tan_suat_GT)"
   ]
  },
  {
   "cell_type": "code",
   "execution_count": 14,
   "metadata": {},
   "outputs": [
    {
     "data": {
      "text/plain": [
       "([<matplotlib.patches.Wedge at 0x1cb8bb657f0>,\n",
       "  <matplotlib.patches.Wedge at 0x1cb8bb65cd0>],\n",
       " [Text(-0.06906950569907239, 1.0978294054098232, 'M'),\n",
       "  Text(0.06906940291286497, -1.0978294118765723, 'F')])"
      ]
     },
     "execution_count": 14,
     "metadata": {},
     "output_type": "execute_result"
    },
    {
     "data": {
      "image/png": "[encoded data removed]",
      "text/plain": [
       "<Figure size 432x288 with 1 Axes>"
      ]
     },
     "metadata": {},
     "output_type": "display_data"
    }
   ],
   "source": [
    "plt.pie(Tan_suat_GT, labels=Tan_suat_GT.index)"
   ]
  },
  {
   "cell_type": "code",
   "execution_count": 15,
   "metadata": {
    "scrolled": true
   },
   "outputs": [
    {
     "data": {
      "text/plain": [
       "(array([ 5.,  5., 14., 12.,  7., 14., 21., 12.,  6.,  4.]),\n",
       " array([1.616 , 1.7776, 1.9392, 2.1008, 2.2624, 2.424 , 2.5856, 2.7472,\n",
       "        2.9088, 3.0704, 3.232 ]),\n",
       " <BarContainer object of 10 artists>)"
      ]
     },
     "execution_count": 15,
     "metadata": {},
     "output_type": "execute_result"
    },
    {
     "data": {
      "image/png": "[encoded data removed]",
      "text/plain": [
       "<Figure size 432x288 with 1 Axes>"
      ]
     },
     "metadata": {
      "needs_background": "light"
     },
     "output_type": "display_data"
    }
   ],
   "source": [
    "plt.hist(df['US_TBM1'])"
   ]
  },
  {
   "cell_type": "code",
   "execution_count": 16,
   "metadata": {
    "colab": {
     "base_uri": "https://localhost:8080/"
    },
    "id": "_QeKQFx_MRyw",
    "outputId": "c5344aa6-273e-4b83-d6f5-90c5d0edd061",
    "scrolled": true
   },
   "outputs": [
    {
     "data": {
      "text/plain": [
       "(array([ 3.,  8., 19.,  8., 12., 17., 14., 10.,  6.,  3.]),\n",
       " array([1.768 , 1.9328, 2.0976, 2.2624, 2.4272, 2.592 , 2.7568, 2.9216,\n",
       "        3.0864, 3.2512, 3.416 ]),\n",
       " <BarContainer object of 10 artists>)"
      ]
     },
     "execution_count": 16,
     "metadata": {},
     "output_type": "execute_result"
    },
    {
     "data": {
      "image/png": "[encoded data removed]",
      "text/plain": [
       "<Figure size 432x288 with 1 Axes>"
      ]
     },
     "metadata": {
      "needs_background": "light"
     },
     "output_type": "display_data"
    }
   ],
   "source": [
    "plt.hist(df['US_TBM2'])"
   ]
  },
  {
   "cell_type": "code",
   "execution_count": 17,
   "metadata": {
    "colab": {
     "base_uri": "https://localhost:8080/"
    },
    "id": "Isdwhr4IPkf1",
    "outputId": "53ffe65d-e199-478b-f58d-c38cf26f3144"
   },
   "outputs": [
    {
     "data": {
      "text/plain": [
       "(array([ 3.,  4.,  9.,  9., 12., 22., 19., 12.,  6.,  4.]),\n",
       " array([1.916, 2.056, 2.196, 2.336, 2.476, 2.616, 2.756, 2.896, 3.036,\n",
       "        3.176, 3.316]),\n",
       " <BarContainer object of 10 artists>)"
      ]
     },
     "execution_count": 17,
     "metadata": {},
     "output_type": "execute_result"
    },
    {
     "data": {
      "image/png": "[encoded data removed]",
      "text/plain": [
       "<Figure size 432x288 with 1 Axes>"
      ]
     },
     "metadata": {
      "needs_background": "light"
     },
     "output_type": "display_data"
    }
   ],
   "source": [
    "plt.hist(df['US_TBM3'])"
   ]
  },
  {
   "cell_type": "code",
   "execution_count": 18,
   "metadata": {
    "id": "q0F9tBuzRjrW"
   },
   "outputs": [],
   "source": [
    "tmp_diemdh = df[['KHU VUC THI', 'DIEM THI MON 1', 'DIEM THI MON 2', 'DIEM THI MON 3']].copy()"
   ]
  },
  {
   "cell_type": "code",
   "execution_count": 19,
   "metadata": {},
   "outputs": [
    {
     "data": {
      "text/html": [
       "<div>\n",
       "<style scoped>\n",
       "    .dataframe tbody tr th:only-of-type {\n",
       "        vertical-align: middle;\n",
       "    }\n",
       "\n",
       "    .dataframe tbody tr th {\n",
       "        vertical-align: top;\n",
       "    }\n",
       "\n",
       "    .dataframe thead th {\n",
       "        text-align: right;\n",
       "    }\n",
       "</style>\n",
       "<table border=\"1\" class=\"dataframe\">\n",
       "  <thead>\n",
       "    <tr style=\"text-align: right;\">\n",
       "      <th></th>\n",
       "      <th>KHU VUC THI</th>\n",
       "      <th>DIEM THI MON 1</th>\n",
       "      <th>DIEM THI MON 2</th>\n",
       "      <th>DIEM THI MON 3</th>\n",
       "    </tr>\n",
       "  </thead>\n",
       "  <tbody>\n",
       "    <tr>\n",
       "      <th>23</th>\n",
       "      <td>2NT</td>\n",
       "      <td>6.75</td>\n",
       "      <td>5.25</td>\n",
       "      <td>5.0</td>\n",
       "    </tr>\n",
       "  </tbody>\n",
       "</table>\n",
       "</div>"
      ],
      "text/plain": [
       "   KHU VUC THI  DIEM THI MON 1  DIEM THI MON 2  DIEM THI MON 3\n",
       "23         2NT            6.75            5.25             5.0"
      ]
     },
     "execution_count": 19,
     "metadata": {},
     "output_type": "execute_result"
    }
   ],
   "source": [
    "tmp_diemdh = tmp_diemdh[tmp_diemdh['KHU VUC THI']=='2NT']\n",
    "tmp_diemdh = tmp_diemdh[tmp_diemdh['DIEM THI MON 1'] >= 5.0]\n",
    "tmp_diemdh = tmp_diemdh[tmp_diemdh['DIEM THI MON 2'] >= 5.0]\n",
    "tmp_diemdh = tmp_diemdh[tmp_diemdh['DIEM THI MON 3'] >= 5.0]\n",
    "tmp_diemdh"
   ]
  },
  {
   "cell_type": "code",
   "execution_count": 20,
   "metadata": {},
   "outputs": [
    {
     "data": {
      "text/html": [
       "<div>\n",
       "<style scoped>\n",
       "    .dataframe tbody tr th:only-of-type {\n",
       "        vertical-align: middle;\n",
       "    }\n",
       "\n",
       "    .dataframe tbody tr th {\n",
       "        vertical-align: top;\n",
       "    }\n",
       "\n",
       "    .dataframe thead th {\n",
       "        text-align: right;\n",
       "    }\n",
       "</style>\n",
       "<table border=\"1\" class=\"dataframe\">\n",
       "  <thead>\n",
       "    <tr style=\"text-align: right;\">\n",
       "      <th></th>\n",
       "      <th>XL1</th>\n",
       "      <th>XL2</th>\n",
       "      <th>XL3</th>\n",
       "    </tr>\n",
       "  </thead>\n",
       "  <tbody>\n",
       "    <tr>\n",
       "      <th>0</th>\n",
       "      <td>K</td>\n",
       "      <td>K</td>\n",
       "      <td>K</td>\n",
       "    </tr>\n",
       "    <tr>\n",
       "      <th>6</th>\n",
       "      <td>Y</td>\n",
       "      <td>TB</td>\n",
       "      <td>TB</td>\n",
       "    </tr>\n",
       "    <tr>\n",
       "      <th>7</th>\n",
       "      <td>K</td>\n",
       "      <td>K</td>\n",
       "      <td>K</td>\n",
       "    </tr>\n",
       "    <tr>\n",
       "      <th>8</th>\n",
       "      <td>TB</td>\n",
       "      <td>K</td>\n",
       "      <td>K</td>\n",
       "    </tr>\n",
       "    <tr>\n",
       "      <th>9</th>\n",
       "      <td>K</td>\n",
       "      <td>K</td>\n",
       "      <td>K</td>\n",
       "    </tr>\n",
       "  </tbody>\n",
       "</table>\n",
       "</div>"
      ],
      "text/plain": [
       "  XL1 XL2 XL3\n",
       "0   K   K   K\n",
       "6   Y  TB  TB\n",
       "7   K   K   K\n",
       "8  TB   K   K\n",
       "9   K   K   K"
      ]
     },
     "execution_count": 20,
     "metadata": {},
     "output_type": "execute_result"
    }
   ],
   "source": [
    "tmp = df[df['GIOI TINH']=='F'].copy()\n",
    "tmp = tmp[['XL1', 'XL2', 'XL3']]\n",
    "tmp.head()"
   ]
  },
  {
   "cell_type": "code",
   "execution_count": 21,
   "metadata": {
    "scrolled": true
   },
   "outputs": [
    {
     "data": {
      "text/html": [
       "<div>\n",
       "<style scoped>\n",
       "    .dataframe tbody tr th:only-of-type {\n",
       "        vertical-align: middle;\n",
       "    }\n",
       "\n",
       "    .dataframe tbody tr th {\n",
       "        vertical-align: top;\n",
       "    }\n",
       "\n",
       "    .dataframe thead th {\n",
       "        text-align: right;\n",
       "    }\n",
       "</style>\n",
       "<table border=\"1\" class=\"dataframe\">\n",
       "  <thead>\n",
       "    <tr style=\"text-align: right;\">\n",
       "      <th></th>\n",
       "      <th>XL1</th>\n",
       "    </tr>\n",
       "  </thead>\n",
       "  <tbody>\n",
       "    <tr>\n",
       "      <th>K</th>\n",
       "      <td>24</td>\n",
       "    </tr>\n",
       "    <tr>\n",
       "      <th>TB</th>\n",
       "      <td>18</td>\n",
       "    </tr>\n",
       "    <tr>\n",
       "      <th>Y</th>\n",
       "      <td>5</td>\n",
       "    </tr>\n",
       "    <tr>\n",
       "      <th>G</th>\n",
       "      <td>1</td>\n",
       "    </tr>\n",
       "  </tbody>\n",
       "</table>\n",
       "</div>"
      ],
      "text/plain": [
       "    XL1\n",
       "K    24\n",
       "TB   18\n",
       "Y     5\n",
       "G     1"
      ]
     },
     "execution_count": 21,
     "metadata": {},
     "output_type": "execute_result"
    }
   ],
   "source": [
    "xloai_nu = tmp['XL1'].value_counts().to_frame()\n",
    "xloai_nu"
   ]
  },
  {
   "cell_type": "code",
   "execution_count": 22,
   "metadata": {},
   "outputs": [
    {
     "data": {
      "text/html": [
       "<div>\n",
       "<style scoped>\n",
       "    .dataframe tbody tr th:only-of-type {\n",
       "        vertical-align: middle;\n",
       "    }\n",
       "\n",
       "    .dataframe tbody tr th {\n",
       "        vertical-align: top;\n",
       "    }\n",
       "\n",
       "    .dataframe thead th {\n",
       "        text-align: right;\n",
       "    }\n",
       "</style>\n",
       "<table border=\"1\" class=\"dataframe\">\n",
       "  <thead>\n",
       "    <tr style=\"text-align: right;\">\n",
       "      <th></th>\n",
       "      <th>XL1</th>\n",
       "      <th>XL2</th>\n",
       "    </tr>\n",
       "  </thead>\n",
       "  <tbody>\n",
       "    <tr>\n",
       "      <th>K</th>\n",
       "      <td>24</td>\n",
       "      <td>30</td>\n",
       "    </tr>\n",
       "    <tr>\n",
       "      <th>TB</th>\n",
       "      <td>18</td>\n",
       "      <td>15</td>\n",
       "    </tr>\n",
       "    <tr>\n",
       "      <th>Y</th>\n",
       "      <td>5</td>\n",
       "      <td>2</td>\n",
       "    </tr>\n",
       "    <tr>\n",
       "      <th>G</th>\n",
       "      <td>1</td>\n",
       "      <td>1</td>\n",
       "    </tr>\n",
       "  </tbody>\n",
       "</table>\n",
       "</div>"
      ],
      "text/plain": [
       "    XL1  XL2\n",
       "K    24   30\n",
       "TB   18   15\n",
       "Y     5    2\n",
       "G     1    1"
      ]
     },
     "execution_count": 22,
     "metadata": {},
     "output_type": "execute_result"
    }
   ],
   "source": [
    "xloai_nu['XL2'] = tmp['XL2'].value_counts().values\n",
    "xloai_nu"
   ]
  },
  {
   "cell_type": "code",
   "execution_count": 23,
   "metadata": {},
   "outputs": [
    {
     "data": {
      "text/html": [
       "<div>\n",
       "<style scoped>\n",
       "    .dataframe tbody tr th:only-of-type {\n",
       "        vertical-align: middle;\n",
       "    }\n",
       "\n",
       "    .dataframe tbody tr th {\n",
       "        vertical-align: top;\n",
       "    }\n",
       "\n",
       "    .dataframe thead th {\n",
       "        text-align: right;\n",
       "    }\n",
       "</style>\n",
       "<table border=\"1\" class=\"dataframe\">\n",
       "  <thead>\n",
       "    <tr style=\"text-align: right;\">\n",
       "      <th></th>\n",
       "      <th>XL1</th>\n",
       "      <th>XL2</th>\n",
       "      <th>XL3</th>\n",
       "    </tr>\n",
       "  </thead>\n",
       "  <tbody>\n",
       "    <tr>\n",
       "      <th>K</th>\n",
       "      <td>24</td>\n",
       "      <td>30</td>\n",
       "      <td>35</td>\n",
       "    </tr>\n",
       "    <tr>\n",
       "      <th>TB</th>\n",
       "      <td>18</td>\n",
       "      <td>15</td>\n",
       "      <td>12</td>\n",
       "    </tr>\n",
       "    <tr>\n",
       "      <th>Y</th>\n",
       "      <td>5</td>\n",
       "      <td>2</td>\n",
       "      <td>0</td>\n",
       "    </tr>\n",
       "    <tr>\n",
       "      <th>G</th>\n",
       "      <td>1</td>\n",
       "      <td>1</td>\n",
       "      <td>1</td>\n",
       "    </tr>\n",
       "  </tbody>\n",
       "</table>\n",
       "</div>"
      ],
      "text/plain": [
       "    XL1  XL2  XL3\n",
       "K    24   30   35\n",
       "TB   18   15   12\n",
       "Y     5    2    0\n",
       "G     1    1    1"
      ]
     },
     "execution_count": 23,
     "metadata": {},
     "output_type": "execute_result"
    }
   ],
   "source": [
    "x = tmp['XL3'].value_counts().values\n",
    "x = np.insert(x, 2, 0)\n",
    "xloai_nu['XL3'] = x\n",
    "xloai_nu"
   ]
  },
  {
   "cell_type": "code",
   "execution_count": 24,
   "metadata": {},
   "outputs": [],
   "source": [
    "y_pos = np.arange(len(xloai_nu.columns.values))"
   ]
  },
  {
   "cell_type": "code",
   "execution_count": 25,
   "metadata": {},
   "outputs": [],
   "source": [
    "r1 = np.arange(len(xloai_nu['XL1'].values))\n",
    "r2 = [x + 0.3 for x in r1]\n",
    "r3 = [x + 0.6 for x in r1]"
   ]
  },
  {
   "cell_type": "code",
   "execution_count": 26,
   "metadata": {},
   "outputs": [
    {
     "data": {
      "text/plain": [
       "<matplotlib.legend.Legend at 0x1cb8bdb7340>"
      ]
     },
     "execution_count": 26,
     "metadata": {},
     "output_type": "execute_result"
    },
    {
     "data": {
      "image/png": "[encoded data removed]",
      "text/plain": [
       "<Figure size 432x288 with 1 Axes>"
      ]
     },
     "metadata": {
      "needs_background": "light"
     },
     "output_type": "display_data"
    }
   ],
   "source": [
    "plt.bar(r1, xloai_nu['XL1'].values, color='red', width=0.3)\n",
    "plt.bar(r2, xloai_nu['XL2'].values, color='blue', width=0.3)\n",
    "plt.bar(r3, xloai_nu['XL3'].values, color='orange', width=0.3)\n",
    "plt.xticks([r + 0.3 for r in range(len(xloai_nu['XL1'].values))], xloai_nu['XL1'].index)\n",
    "plt.ylabel('height')\n",
    "plt.legend(xloai_nu.columns.values)"
   ]
  },
  {
   "cell_type": "code",
   "execution_count": 27,
   "metadata": {},
   "outputs": [
    {
     "data": {
      "text/html": [
       "<div>\n",
       "<style scoped>\n",
       "    .dataframe tbody tr th:only-of-type {\n",
       "        vertical-align: middle;\n",
       "    }\n",
       "\n",
       "    .dataframe tbody tr th {\n",
       "        vertical-align: top;\n",
       "    }\n",
       "\n",
       "    .dataframe thead th {\n",
       "        text-align: right;\n",
       "    }\n",
       "</style>\n",
       "<table border=\"1\" class=\"dataframe\">\n",
       "  <thead>\n",
       "    <tr style=\"text-align: right;\">\n",
       "      <th></th>\n",
       "      <th>KHOI THI</th>\n",
       "      <th>KHU VUC THI</th>\n",
       "      <th>KQXT</th>\n",
       "      <th>value</th>\n",
       "    </tr>\n",
       "  </thead>\n",
       "  <tbody>\n",
       "    <tr>\n",
       "      <th>0</th>\n",
       "      <td>A</td>\n",
       "      <td>1</td>\n",
       "      <td>DAU</td>\n",
       "      <td>2</td>\n",
       "    </tr>\n",
       "    <tr>\n",
       "      <th>1</th>\n",
       "      <td>A</td>\n",
       "      <td>1</td>\n",
       "      <td>ROT</td>\n",
       "      <td>27</td>\n",
       "    </tr>\n",
       "    <tr>\n",
       "      <th>2</th>\n",
       "      <td>A</td>\n",
       "      <td>2</td>\n",
       "      <td>DAU</td>\n",
       "      <td>2</td>\n",
       "    </tr>\n",
       "    <tr>\n",
       "      <th>3</th>\n",
       "      <td>A</td>\n",
       "      <td>2</td>\n",
       "      <td>ROT</td>\n",
       "      <td>7</td>\n",
       "    </tr>\n",
       "    <tr>\n",
       "      <th>4</th>\n",
       "      <td>A1</td>\n",
       "      <td>1</td>\n",
       "      <td>ROT</td>\n",
       "      <td>2</td>\n",
       "    </tr>\n",
       "    <tr>\n",
       "      <th>5</th>\n",
       "      <td>B</td>\n",
       "      <td>1</td>\n",
       "      <td>DAU</td>\n",
       "      <td>1</td>\n",
       "    </tr>\n",
       "    <tr>\n",
       "      <th>6</th>\n",
       "      <td>B</td>\n",
       "      <td>1</td>\n",
       "      <td>ROT</td>\n",
       "      <td>7</td>\n",
       "    </tr>\n",
       "  </tbody>\n",
       "</table>\n",
       "</div>"
      ],
      "text/plain": [
       "  KHOI THI KHU VUC THI KQXT  value\n",
       "0        A           1  DAU      2\n",
       "1        A           1  ROT     27\n",
       "2        A           2  DAU      2\n",
       "3        A           2  ROT      7\n",
       "4       A1           1  ROT      2\n",
       "5        B           1  DAU      1\n",
       "6        B           1  ROT      7"
      ]
     },
     "execution_count": 27,
     "metadata": {},
     "output_type": "execute_result"
    }
   ],
   "source": [
    "tmp = df[['KHOI THI', 'KHU VUC THI', 'KQXT']].copy()\n",
    "tmp = tmp[tmp['KHU VUC THI'].isin(['1', '2'])]\n",
    "tmp = tmp[tmp['KHOI THI'].isin(['A', 'A1', 'B'])]\n",
    "tmp['value'] = 1\n",
    "xloai_dhkv = tmp.groupby(['KHOI THI', 'KHU VUC THI', 'KQXT']).sum()\n",
    "xloai_dhkv.reset_index(inplace=True)\n",
    "xloai_dhkv"
   ]
  },
  {
   "cell_type": "code",
   "execution_count": 28,
   "metadata": {},
   "outputs": [
    {
     "data": {
      "text/html": [
       "<div>\n",
       "<style scoped>\n",
       "    .dataframe tbody tr th:only-of-type {\n",
       "        vertical-align: middle;\n",
       "    }\n",
       "\n",
       "    .dataframe tbody tr th {\n",
       "        vertical-align: top;\n",
       "    }\n",
       "\n",
       "    .dataframe thead th {\n",
       "        text-align: right;\n",
       "    }\n",
       "</style>\n",
       "<table border=\"1\" class=\"dataframe\">\n",
       "  <thead>\n",
       "    <tr style=\"text-align: right;\">\n",
       "      <th></th>\n",
       "      <th>KHOI THI</th>\n",
       "      <th>KHU VUC THI</th>\n",
       "      <th>value</th>\n",
       "    </tr>\n",
       "  </thead>\n",
       "  <tbody>\n",
       "    <tr>\n",
       "      <th>0</th>\n",
       "      <td>A</td>\n",
       "      <td>1</td>\n",
       "      <td>29</td>\n",
       "    </tr>\n",
       "    <tr>\n",
       "      <th>1</th>\n",
       "      <td>A</td>\n",
       "      <td>2</td>\n",
       "      <td>9</td>\n",
       "    </tr>\n",
       "    <tr>\n",
       "      <th>2</th>\n",
       "      <td>A</td>\n",
       "      <td>2NT</td>\n",
       "      <td>11</td>\n",
       "    </tr>\n",
       "    <tr>\n",
       "      <th>3</th>\n",
       "      <td>A1</td>\n",
       "      <td>1</td>\n",
       "      <td>2</td>\n",
       "    </tr>\n",
       "    <tr>\n",
       "      <th>4</th>\n",
       "      <td>A1</td>\n",
       "      <td>2NT</td>\n",
       "      <td>4</td>\n",
       "    </tr>\n",
       "    <tr>\n",
       "      <th>5</th>\n",
       "      <td>B</td>\n",
       "      <td>1</td>\n",
       "      <td>8</td>\n",
       "    </tr>\n",
       "    <tr>\n",
       "      <th>6</th>\n",
       "      <td>B</td>\n",
       "      <td>2NT</td>\n",
       "      <td>1</td>\n",
       "    </tr>\n",
       "    <tr>\n",
       "      <th>7</th>\n",
       "      <td>C</td>\n",
       "      <td>1</td>\n",
       "      <td>8</td>\n",
       "    </tr>\n",
       "    <tr>\n",
       "      <th>8</th>\n",
       "      <td>C</td>\n",
       "      <td>2</td>\n",
       "      <td>2</td>\n",
       "    </tr>\n",
       "    <tr>\n",
       "      <th>9</th>\n",
       "      <td>C</td>\n",
       "      <td>2NT</td>\n",
       "      <td>4</td>\n",
       "    </tr>\n",
       "    <tr>\n",
       "      <th>10</th>\n",
       "      <td>D1</td>\n",
       "      <td>1</td>\n",
       "      <td>13</td>\n",
       "    </tr>\n",
       "    <tr>\n",
       "      <th>11</th>\n",
       "      <td>D1</td>\n",
       "      <td>2</td>\n",
       "      <td>8</td>\n",
       "    </tr>\n",
       "    <tr>\n",
       "      <th>12</th>\n",
       "      <td>D1</td>\n",
       "      <td>2NT</td>\n",
       "      <td>1</td>\n",
       "    </tr>\n",
       "  </tbody>\n",
       "</table>\n",
       "</div>"
      ],
      "text/plain": [
       "   KHOI THI KHU VUC THI  value\n",
       "0         A           1     29\n",
       "1         A           2      9\n",
       "2         A         2NT     11\n",
       "3        A1           1      2\n",
       "4        A1         2NT      4\n",
       "5         B           1      8\n",
       "6         B         2NT      1\n",
       "7         C           1      8\n",
       "8         C           2      2\n",
       "9         C         2NT      4\n",
       "10       D1           1     13\n",
       "11       D1           2      8\n",
       "12       D1         2NT      1"
      ]
     },
     "execution_count": 28,
     "metadata": {},
     "output_type": "execute_result"
    }
   ],
   "source": [
    "tmp = df[['KHOI THI', 'KHU VUC THI']].copy()\n",
    "tmp['value'] = 1\n",
    "xloai_dhkv = tmp.groupby(['KHOI THI', 'KHU VUC THI']).sum()\n",
    "xloai_dhkv.reset_index(inplace=True)\n",
    "xloai_dhkv"
   ]
  },
  {
   "cell_type": "code",
   "execution_count": 29,
   "metadata": {},
   "outputs": [
    {
     "data": {
      "text/html": [
       "<div>\n",
       "<style scoped>\n",
       "    .dataframe tbody tr th:only-of-type {\n",
       "        vertical-align: middle;\n",
       "    }\n",
       "\n",
       "    .dataframe tbody tr th {\n",
       "        vertical-align: top;\n",
       "    }\n",
       "\n",
       "    .dataframe thead th {\n",
       "        text-align: right;\n",
       "    }\n",
       "</style>\n",
       "<table border=\"1\" class=\"dataframe\">\n",
       "  <thead>\n",
       "    <tr style=\"text-align: right;\">\n",
       "      <th></th>\n",
       "      <th>KHOI THI</th>\n",
       "      <th>KQXT</th>\n",
       "      <th>value</th>\n",
       "    </tr>\n",
       "  </thead>\n",
       "  <tbody>\n",
       "    <tr>\n",
       "      <th>0</th>\n",
       "      <td>A</td>\n",
       "      <td>DAU</td>\n",
       "      <td>4</td>\n",
       "    </tr>\n",
       "    <tr>\n",
       "      <th>1</th>\n",
       "      <td>A</td>\n",
       "      <td>ROT</td>\n",
       "      <td>45</td>\n",
       "    </tr>\n",
       "    <tr>\n",
       "      <th>2</th>\n",
       "      <td>A1</td>\n",
       "      <td>ROT</td>\n",
       "      <td>6</td>\n",
       "    </tr>\n",
       "    <tr>\n",
       "      <th>3</th>\n",
       "      <td>B</td>\n",
       "      <td>DAU</td>\n",
       "      <td>2</td>\n",
       "    </tr>\n",
       "    <tr>\n",
       "      <th>4</th>\n",
       "      <td>B</td>\n",
       "      <td>ROT</td>\n",
       "      <td>7</td>\n",
       "    </tr>\n",
       "    <tr>\n",
       "      <th>5</th>\n",
       "      <td>C</td>\n",
       "      <td>DAU</td>\n",
       "      <td>4</td>\n",
       "    </tr>\n",
       "    <tr>\n",
       "      <th>6</th>\n",
       "      <td>C</td>\n",
       "      <td>ROT</td>\n",
       "      <td>10</td>\n",
       "    </tr>\n",
       "    <tr>\n",
       "      <th>7</th>\n",
       "      <td>D1</td>\n",
       "      <td>DAU</td>\n",
       "      <td>2</td>\n",
       "    </tr>\n",
       "    <tr>\n",
       "      <th>8</th>\n",
       "      <td>D1</td>\n",
       "      <td>ROT</td>\n",
       "      <td>20</td>\n",
       "    </tr>\n",
       "  </tbody>\n",
       "</table>\n",
       "</div>"
      ],
      "text/plain": [
       "  KHOI THI KQXT  value\n",
       "0        A  DAU      4\n",
       "1        A  ROT     45\n",
       "2       A1  ROT      6\n",
       "3        B  DAU      2\n",
       "4        B  ROT      7\n",
       "5        C  DAU      4\n",
       "6        C  ROT     10\n",
       "7       D1  DAU      2\n",
       "8       D1  ROT     20"
      ]
     },
     "execution_count": 29,
     "metadata": {},
     "output_type": "execute_result"
    }
   ],
   "source": [
    "tmp = df[['KHOI THI', 'KQXT']].copy()\n",
    "tmp['value'] = 1\n",
    "xloai_dhkv = tmp.groupby(['KHOI THI', 'KQXT']).sum()\n",
    "xloai_dhkv.reset_index(inplace=True)\n",
    "xloai_dhkv"
   ]
  },
  {
   "cell_type": "code",
   "execution_count": 30,
   "metadata": {},
   "outputs": [
    {
     "data": {
      "text/html": [
       "<div>\n",
       "<style scoped>\n",
       "    .dataframe tbody tr th:only-of-type {\n",
       "        vertical-align: middle;\n",
       "    }\n",
       "\n",
       "    .dataframe tbody tr th {\n",
       "        vertical-align: top;\n",
       "    }\n",
       "\n",
       "    .dataframe thead th {\n",
       "        text-align: right;\n",
       "    }\n",
       "</style>\n",
       "<table border=\"1\" class=\"dataframe\">\n",
       "  <thead>\n",
       "    <tr style=\"text-align: right;\">\n",
       "      <th></th>\n",
       "      <th>KHU VUC THI</th>\n",
       "      <th>KHOI THI</th>\n",
       "      <th>KQXT</th>\n",
       "      <th>value</th>\n",
       "    </tr>\n",
       "  </thead>\n",
       "  <tbody>\n",
       "    <tr>\n",
       "      <th>0</th>\n",
       "      <td>1</td>\n",
       "      <td>A</td>\n",
       "      <td>DAU</td>\n",
       "      <td>2</td>\n",
       "    </tr>\n",
       "    <tr>\n",
       "      <th>1</th>\n",
       "      <td>1</td>\n",
       "      <td>A</td>\n",
       "      <td>ROT</td>\n",
       "      <td>27</td>\n",
       "    </tr>\n",
       "    <tr>\n",
       "      <th>2</th>\n",
       "      <td>1</td>\n",
       "      <td>A1</td>\n",
       "      <td>ROT</td>\n",
       "      <td>2</td>\n",
       "    </tr>\n",
       "    <tr>\n",
       "      <th>3</th>\n",
       "      <td>1</td>\n",
       "      <td>B</td>\n",
       "      <td>DAU</td>\n",
       "      <td>1</td>\n",
       "    </tr>\n",
       "    <tr>\n",
       "      <th>4</th>\n",
       "      <td>1</td>\n",
       "      <td>B</td>\n",
       "      <td>ROT</td>\n",
       "      <td>7</td>\n",
       "    </tr>\n",
       "    <tr>\n",
       "      <th>5</th>\n",
       "      <td>1</td>\n",
       "      <td>C</td>\n",
       "      <td>DAU</td>\n",
       "      <td>1</td>\n",
       "    </tr>\n",
       "    <tr>\n",
       "      <th>6</th>\n",
       "      <td>1</td>\n",
       "      <td>C</td>\n",
       "      <td>ROT</td>\n",
       "      <td>7</td>\n",
       "    </tr>\n",
       "    <tr>\n",
       "      <th>7</th>\n",
       "      <td>1</td>\n",
       "      <td>D1</td>\n",
       "      <td>ROT</td>\n",
       "      <td>13</td>\n",
       "    </tr>\n",
       "    <tr>\n",
       "      <th>8</th>\n",
       "      <td>2</td>\n",
       "      <td>A</td>\n",
       "      <td>DAU</td>\n",
       "      <td>2</td>\n",
       "    </tr>\n",
       "    <tr>\n",
       "      <th>9</th>\n",
       "      <td>2</td>\n",
       "      <td>A</td>\n",
       "      <td>ROT</td>\n",
       "      <td>7</td>\n",
       "    </tr>\n",
       "    <tr>\n",
       "      <th>10</th>\n",
       "      <td>2</td>\n",
       "      <td>C</td>\n",
       "      <td>DAU</td>\n",
       "      <td>1</td>\n",
       "    </tr>\n",
       "    <tr>\n",
       "      <th>11</th>\n",
       "      <td>2</td>\n",
       "      <td>C</td>\n",
       "      <td>ROT</td>\n",
       "      <td>1</td>\n",
       "    </tr>\n",
       "    <tr>\n",
       "      <th>12</th>\n",
       "      <td>2</td>\n",
       "      <td>D1</td>\n",
       "      <td>DAU</td>\n",
       "      <td>2</td>\n",
       "    </tr>\n",
       "    <tr>\n",
       "      <th>13</th>\n",
       "      <td>2</td>\n",
       "      <td>D1</td>\n",
       "      <td>ROT</td>\n",
       "      <td>6</td>\n",
       "    </tr>\n",
       "    <tr>\n",
       "      <th>14</th>\n",
       "      <td>2NT</td>\n",
       "      <td>A</td>\n",
       "      <td>ROT</td>\n",
       "      <td>11</td>\n",
       "    </tr>\n",
       "    <tr>\n",
       "      <th>15</th>\n",
       "      <td>2NT</td>\n",
       "      <td>A1</td>\n",
       "      <td>ROT</td>\n",
       "      <td>4</td>\n",
       "    </tr>\n",
       "    <tr>\n",
       "      <th>16</th>\n",
       "      <td>2NT</td>\n",
       "      <td>B</td>\n",
       "      <td>DAU</td>\n",
       "      <td>1</td>\n",
       "    </tr>\n",
       "    <tr>\n",
       "      <th>17</th>\n",
       "      <td>2NT</td>\n",
       "      <td>C</td>\n",
       "      <td>DAU</td>\n",
       "      <td>2</td>\n",
       "    </tr>\n",
       "    <tr>\n",
       "      <th>18</th>\n",
       "      <td>2NT</td>\n",
       "      <td>C</td>\n",
       "      <td>ROT</td>\n",
       "      <td>2</td>\n",
       "    </tr>\n",
       "    <tr>\n",
       "      <th>19</th>\n",
       "      <td>2NT</td>\n",
       "      <td>D1</td>\n",
       "      <td>ROT</td>\n",
       "      <td>1</td>\n",
       "    </tr>\n",
       "  </tbody>\n",
       "</table>\n",
       "</div>"
      ],
      "text/plain": [
       "   KHU VUC THI KHOI THI KQXT  value\n",
       "0            1        A  DAU      2\n",
       "1            1        A  ROT     27\n",
       "2            1       A1  ROT      2\n",
       "3            1        B  DAU      1\n",
       "4            1        B  ROT      7\n",
       "5            1        C  DAU      1\n",
       "6            1        C  ROT      7\n",
       "7            1       D1  ROT     13\n",
       "8            2        A  DAU      2\n",
       "9            2        A  ROT      7\n",
       "10           2        C  DAU      1\n",
       "11           2        C  ROT      1\n",
       "12           2       D1  DAU      2\n",
       "13           2       D1  ROT      6\n",
       "14         2NT        A  ROT     11\n",
       "15         2NT       A1  ROT      4\n",
       "16         2NT        B  DAU      1\n",
       "17         2NT        C  DAU      2\n",
       "18         2NT        C  ROT      2\n",
       "19         2NT       D1  ROT      1"
      ]
     },
     "execution_count": 30,
     "metadata": {},
     "output_type": "execute_result"
    }
   ],
   "source": [
    "tmp = df[['KHU VUC THI', 'KHOI THI', 'KQXT']].copy()\n",
    "tmp['value'] = 1\n",
    "xloai_dhkv = tmp.groupby(['KHU VUC THI', 'KHOI THI', 'KQXT']).sum()\n",
    "xloai_dhkv.reset_index(inplace=True)\n",
    "xloai_dhkv"
   ]
  },
  {
   "cell_type": "code",
   "execution_count": 31,
   "metadata": {},
   "outputs": [
    {
     "data": {
      "text/html": [
       "<div>\n",
       "<style scoped>\n",
       "    .dataframe tbody tr th:only-of-type {\n",
       "        vertical-align: middle;\n",
       "    }\n",
       "\n",
       "    .dataframe tbody tr th {\n",
       "        vertical-align: top;\n",
       "    }\n",
       "\n",
       "    .dataframe thead th {\n",
       "        text-align: right;\n",
       "    }\n",
       "</style>\n",
       "<table border=\"1\" class=\"dataframe\">\n",
       "  <thead>\n",
       "    <tr style=\"text-align: right;\">\n",
       "      <th></th>\n",
       "      <th>GIOI TINH</th>\n",
       "      <th>KQXT</th>\n",
       "      <th>value</th>\n",
       "    </tr>\n",
       "  </thead>\n",
       "  <tbody>\n",
       "    <tr>\n",
       "      <th>0</th>\n",
       "      <td>F</td>\n",
       "      <td>DAU</td>\n",
       "      <td>4</td>\n",
       "    </tr>\n",
       "    <tr>\n",
       "      <th>1</th>\n",
       "      <td>F</td>\n",
       "      <td>ROT</td>\n",
       "      <td>44</td>\n",
       "    </tr>\n",
       "    <tr>\n",
       "      <th>2</th>\n",
       "      <td>M</td>\n",
       "      <td>DAU</td>\n",
       "      <td>8</td>\n",
       "    </tr>\n",
       "    <tr>\n",
       "      <th>3</th>\n",
       "      <td>M</td>\n",
       "      <td>ROT</td>\n",
       "      <td>44</td>\n",
       "    </tr>\n",
       "  </tbody>\n",
       "</table>\n",
       "</div>"
      ],
      "text/plain": [
       "  GIOI TINH KQXT  value\n",
       "0         F  DAU      4\n",
       "1         F  ROT     44\n",
       "2         M  DAU      8\n",
       "3         M  ROT     44"
      ]
     },
     "execution_count": 31,
     "metadata": {},
     "output_type": "execute_result"
    }
   ],
   "source": [
    "tmp = df[['GIOI TINH', 'KQXT']].copy()\n",
    "tmp['value'] = 1\n",
    "xloai_dhkv = tmp.groupby(['GIOI TINH', 'KQXT']).sum()\n",
    "xloai_dhkv.reset_index(inplace=True)\n",
    "xloai_dhkv"
   ]
  },
  {
   "cell_type": "code",
   "execution_count": 32,
   "metadata": {},
   "outputs": [],
   "source": [
    "df['phanlopt1']=''"
   ]
  },
  {
   "cell_type": "code",
   "execution_count": 38,
   "metadata": {},
   "outputs": [
    {
     "data": {
      "text/plain": [
       "0      K\n",
       "1     TB\n",
       "2     TB\n",
       "3     TB\n",
       "4     TB\n",
       "      ..\n",
       "95     G\n",
       "96     Y\n",
       "97     G\n",
       "98     Y\n",
       "99     Y\n",
       "Name: phanlopt1, Length: 100, dtype: object"
      ]
     },
     "execution_count": 38,
     "metadata": {},
     "output_type": "execute_result"
    }
   ],
   "source": [
    "df.loc[(df['TOAN10']) < 5, 'phanlopt1'] = 'Y'\n",
    "df.loc[(df['TOAN10']) >= 5, 'phanlopt1'] = 'TB'\n",
    "df.loc[(df['TOAN10']) >= 7, 'phanlopt1'] = 'K'\n",
    "df.loc[(df['TOAN10']) >= 8, 'phanlopt1'] = 'G'\n",
    "df['phanlopt1']"
   ]
  },
  {
   "cell_type": "code",
   "execution_count": 40,
   "metadata": {},
   "outputs": [],
   "source": [
    "y = df[df['phanlopt1']=='Y'].copy()\n",
    "y = y.TOAN10\n",
    "tb = df[df['phanlopt1']=='TB'].copy()\n",
    "tb = tb.TOAN10\n",
    "k = df[df['phanlopt1']=='K'].copy()\n",
    "k = k.TOAN10\n",
    "g = df[df['phanlopt1']=='G'].copy()\n",
    "g = g.TOAN10"
   ]
  },
  {
   "cell_type": "code",
   "execution_count": 56,
   "metadata": {},
   "outputs": [
    {
     "data": {
      "text/plain": [
       "[<matplotlib.lines.Line2D at 0x1cb8d5689a0>]"
      ]
     },
     "execution_count": 56,
     "metadata": {},
     "output_type": "execute_result"
    },
    {
     "data": {
      "image/png": "[encoded data removed]",
      "text/plain": [
       "<Figure size 432x288 with 1 Axes>"
      ]
     },
     "metadata": {
      "needs_background": "light"
     },
     "output_type": "display_data"
    }
   ],
   "source": [
    "plt.plot(y)\n",
    "plt.plot(tb)\n",
    "plt.plot(k)\n",
    "plt.plot(g)\n"
   ]
  },
  {
   "cell_type": "code",
   "execution_count": 50,
   "metadata": {},
   "outputs": [
    {
     "data": {
      "text/plain": [
       "<matplotlib.collections.LineCollection at 0x1cb8d2813d0>"
      ]
     },
     "execution_count": 50,
     "metadata": {},
     "output_type": "execute_result"
    },
    {
     "data": {
      "image/png": "[encoded data removed]",
      "text/plain": [
       "<Figure size 432x288 with 1 Axes>"
      ]
     },
     "metadata": {
      "needs_background": "light"
     },
     "output_type": "display_data"
    }
   ],
   "source": []
  }
 ],
 "metadata": {
  "colab": {
   "collapsed_sections": [],
   "name": "BaiThucHanhTrinhBayDuLieu.ipynb",
   "provenance": []
  },
  "kernelspec": {
   "display_name": "Python 3",
   "language": "python",
   "name": "python3"
  },
  "language_info": {
   "codemirror_mode": {
    "name": "ipython",
    "version": 3
   },
   "file_extension": ".py",
   "mimetype": "text/x-python",
   "name": "python",
   "nbconvert_exporter": "python",
   "pygments_lexer": "ipython3",
   "version": "3.8.5"
  }
 },
 "nbformat": 4,
 "nbformat_minor": 1
}
